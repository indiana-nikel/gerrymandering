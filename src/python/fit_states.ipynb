{
 "cells": [
  {
   "cell_type": "markdown",
   "metadata": {
    "collapsed": true
   },
   "source": [
    "# Fitting Equal-Sized K-Means\n",
    "\n",
    "NOTE: Code will not run without the data directory in the head of the repository. The files are too large to store on Github and can be downloaded from [https://openaddresses.io](https://openaddresses.io) and saved in `gerrymandering/data`."
   ]
  },
  {
   "cell_type": "code",
   "execution_count": 2,
   "metadata": {},
   "outputs": [],
   "source": [
    "# Import packages\n",
    "\n",
    "## Core packages\n",
    "import pandas as pd\n",
    "import numpy as np\n",
    "\n",
    "## Directory manipulation\n",
    "import glob\n",
    "import os\n",
    "\n",
    "## Fitting and mathematics\n",
    "import k_means_eq\n",
    "# from geovoronoi import voronoi_regions_from_coords\n",
    "\n",
    "## Plotting\n",
    "import matplotlib.pyplot as plt\n",
    "import plotly.express as px\n",
    "# import geopandas as gpd\n",
    "# from geovoronoi.plotting import subplot_for_map, plot_voronoi_polys_with_points_in_area\n",
    "\n",
    "## Quality of life\n",
    "from tqdm.notebook import tqdm"
   ]
  },
  {
   "cell_type": "code",
   "execution_count": 3,
   "metadata": {},
   "outputs": [],
   "source": [
    "# Read in summary data\n",
    "df_state_info = pd.read_csv(\"../../dash/state_summary.csv\")"
   ]
  },
  {
   "cell_type": "code",
   "execution_count": 5,
   "metadata": {},
   "outputs": [
    {
     "data": {
      "application/vnd.jupyter.widget-view+json": {
       "model_id": "7eab843844574bde9f07d334e3ea1cbc",
       "version_major": 2,
       "version_minor": 0
      },
      "text/plain": [
       "HBox(children=(FloatProgress(value=0.0, max=51.0), HTML(value='')))"
      ]
     },
     "metadata": {},
     "output_type": "display_data"
    },
    {
     "name": "stdout",
     "output_type": "stream",
     "text": [
      "\n"
     ]
    }
   ],
   "source": [
    "# Consolidate address files (if separated)\n",
    "## Set static variables\n",
    "root_directory = os.path.dirname(os.path.dirname(os.getcwd()))\n",
    "extension = 'csv'\n",
    "## Loop through every avaliable file per state\n",
    "for i in tqdm(df_state_info[\"state_abbrev\"].str.lower()):\n",
    "    working_directory = root_directory + \"/data/\" + i + \"/\"\n",
    "    ## In case a file was not downloaded, error is handled\n",
    "    try:\n",
    "        os.chdir(working_directory)\n",
    "    except FileNotFoundError:\n",
    "        pass\n",
    "    else:\n",
    "        files = [i for i in glob.glob('*.{}'.format(extension))]\n",
    "        filtered_files = [value for value in files if value != \"statewide\"]\n",
    "        combined_files = pd.concat([\n",
    "            pd.read_csv(f, low_memory=False) for f in filtered_files\n",
    "        ])\n",
    "        combined_files.to_csv(root_directory + \"/data/\" + i + \".csv\", index=False)"
   ]
  },
  {
   "cell_type": "markdown",
   "metadata": {},
   "source": [
    "#### NOTE: Some fit times will take much longer than others. We will go through one example of how to fit data using our algorithm."
   ]
  },
  {
   "cell_type": "code",
   "execution_count": 6,
   "metadata": {},
   "outputs": [],
   "source": [
    "# Read in address from North Carolina\n",
    "df_state = pd.read_csv(root_directory + \"/data/nc.csv\", low_memory=False)\n",
    "# Remove all unnecessary data, all we need are the latitude/longitude coordinates\n",
    "df_state = df_state[[\n",
    "    \"LON\",\n",
    "    \"LAT\",\n",
    "]]\n",
    "array_state = np.array(df_state)"
   ]
  },
  {
   "cell_type": "code",
   "execution_count": 10,
   "metadata": {},
   "outputs": [],
   "source": [
    "# Fit the equal KMeans model, number of clusters are the number of congressional seats\n",
    "clf = k_means_eq.EqualGroupsKMeans(n_clusters=13)\n",
    "clf.fit(array_state)\n",
    "df_state[\"CLUSTER\"] = clf.labels_\n",
    "centroids = clf.cluster_centers_"
   ]
  },
  {
   "cell_type": "code",
   "execution_count": 49,
   "metadata": {},
   "outputs": [
    {
     "name": "stderr",
     "output_type": "stream",
     "text": [
      "/Library/Frameworks/Python.framework/Versions/3.7/lib/python3.7/site-packages/pyproj/crs.py:77: FutureWarning:\n",
      "\n",
      "'+init=<authority>:<code>' syntax is deprecated. '<authority>:<code>' is the preferred initialization method.\n",
      "\n"
     ]
    }
   ],
   "source": [
    "world = gpd.read_file(gpd.datasets.get_path('naturalearth_lowres'))\n",
    "area = world[world.name == 'United States of America']\n",
    "\n",
    "area = area.to_crs(epsg=3395)    # convert to World Mercator CRS\n",
    "area_shape = area.iloc[0].geometry   # get the Polygon\n",
    "\n",
    "poly_shapes, pts, poly_to_pt_assignments = voronoi_regions_from_coords(coords, area_shape)\n",
    "\n",
    "fig, ax = subplot_for_map()\n",
    "plot_voronoi_polys_with_points_in_area(ax, area_shape, poly_shapes, coords, poly_to_pt_assignments)\n",
    "plt.show()"
   ]
  },
  {
   "cell_type": "code",
   "execution_count": 15,
   "metadata": {
    "collapsed": true
   },
   "outputs": [],
   "source": [
    "# Save final dataframe with labels as .csv\n",
    "\n",
    "X_plot = pd.DataFrame(dict(lon=X[\"LON\"], lat=X[\"LAT\"], label=clf.labels_))\n",
    "groups = X_plot.groupby('label')\n",
    "X_plot.to_csv(\"../../usa/ar/clustered.csv\")"
   ]
  },
  {
   "cell_type": "code",
   "execution_count": null,
   "metadata": {},
   "outputs": [],
   "source": []
  }
 ],
 "metadata": {
  "kernelspec": {
   "display_name": "Python 3",
   "language": "python",
   "name": "python3"
  },
  "language_info": {
   "codemirror_mode": {
    "name": "ipython",
    "version": 3
   },
   "file_extension": ".py",
   "mimetype": "text/x-python",
   "name": "python",
   "nbconvert_exporter": "python",
   "pygments_lexer": "ipython3",
   "version": "3.7.6"
  }
 },
 "nbformat": 4,
 "nbformat_minor": 2
}
