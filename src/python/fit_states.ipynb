{
 "cells": [
  {
   "cell_type": "markdown",
   "metadata": {
    "collapsed": true
   },
   "source": [
    "# Fitting Equal-Sized K-Means\n",
    "\n",
    "NOTE: Code will not run without the data directory in the head of the repository. The files are too large to store on Github and can be downloaded from [https://openaddresses.io](https://openaddresses.io) and saved in `gerrymandering/data`."
   ]
  },
  {
   "cell_type": "code",
   "execution_count": 57,
   "metadata": {},
   "outputs": [],
   "source": [
    "# Import packages\n",
    "\n",
    "## Core packages\n",
    "import pandas as pd\n",
    "import numpy as np\n",
    "\n",
    "## Directory manipulation\n",
    "import glob\n",
    "import os\n",
    "\n",
    "## Fitting and mathematics\n",
    "import k_means_eq\n",
    "from geovoronoi import voronoi_regions_from_coords\n",
    "\n",
    "## Plotting\n",
    "import matplotlib.pyplot as plt\n",
    "from pylab import *\n",
    "import plotly.express as px\n",
    "import geopandas as gpd\n",
    "from geovoronoi.plotting import subplot_for_map, plot_voronoi_polys_with_points_in_area\n",
    "\n",
    "## Quality of life\n",
    "from tqdm.notebook import tqdm"
   ]
  },
  {
   "cell_type": "code",
   "execution_count": 30,
   "metadata": {},
   "outputs": [],
   "source": [
    "# Read in summary data\n",
    "df_state_info = pd.read_csv(\"../../dash/state_summary.csv\", dtype={\"fips\": str})"
   ]
  },
  {
   "cell_type": "code",
   "execution_count": 34,
   "metadata": {},
   "outputs": [
    {
     "data": {
      "application/vnd.jupyter.widget-view+json": {
       "model_id": "58611c8b22f94ff887dad16b6cf38f6e",
       "version_major": 2,
       "version_minor": 0
      },
      "text/plain": [
       "HBox(children=(FloatProgress(value=0.0, max=51.0), HTML(value='')))"
      ]
     },
     "metadata": {},
     "output_type": "display_data"
    },
    {
     "name": "stdout",
     "output_type": "stream",
     "text": [
      "\n"
     ]
    }
   ],
   "source": [
    "# Consolidate address files (if separated)\n",
    "## Set static variables\n",
    "root_directory = os.path.dirname(os.path.dirname(os.getcwd()))\n",
    "extension = 'csv'\n",
    "## Loop through every avaliable file per state\n",
    "for i in tqdm(df_state_info[\"state_abbrev\"].str.lower()):\n",
    "    working_directory = root_directory + \"/data/\" + i + \"/\"\n",
    "    ## In case a file was not downloaded, error is handled\n",
    "    try:\n",
    "        os.chdir(working_directory)\n",
    "    except FileNotFoundError:\n",
    "        pass\n",
    "    else:\n",
    "        files = [i for i in glob.glob('*.{}'.format(extension))]\n",
    "        if any(\"statewide\" in filename for filename in files):\n",
    "            filtered_files = [filename for filename in files if \"statewide\" in filename]\n",
    "        else:\n",
    "            filtered_files = files\n",
    "        combined_files = pd.concat([\n",
    "            pd.read_csv(f, low_memory=False) for f in filtered_files\n",
    "        ])\n",
    "        combined_files.to_csv(root_directory + \"/data/\" + i + \".csv\", index=False)"
   ]
  },
  {
   "cell_type": "markdown",
   "metadata": {},
   "source": [
    "#### NOTE: Some fit times will take much longer than others. We will go through one example of how to fit data using our algorithm."
   ]
  },
  {
   "cell_type": "code",
   "execution_count": 31,
   "metadata": {},
   "outputs": [],
   "source": [
    "# Define the state we are fitting as well as the number of congressional seats\n",
    "state = \"nc\"\n",
    "seats = df_state_info[df_state_info[\"state_abbrev\"].str.lower() == state][\"seats\"].iloc[0]\n",
    "fips = df_state_info[df_state_info[\"state_abbrev\"].str.lower() == state][\"fips\"].iloc[0]"
   ]
  },
  {
   "cell_type": "code",
   "execution_count": 46,
   "metadata": {},
   "outputs": [],
   "source": [
    "# Read in addresses from the state\n",
    "df_state = pd.read_csv(root_directory + \"/data/\" + state + \".csv\", low_memory=False)\n",
    "# Remove all unnecessary data, all we need are the latitude/longitude coordinates\n",
    "df_state = df_state[[\n",
    "    \"LON\",\n",
    "    \"LAT\",\n",
    "]]\n",
    "array_state = np.array(df_state)"
   ]
  },
  {
   "cell_type": "code",
   "execution_count": 47,
   "metadata": {},
   "outputs": [
    {
     "data": {
      "text/plain": [
       "EqualGroupsKMeans(copy_x=True, init='k-means++', max_iter=300, n_clusters=13,\n",
       "         n_init=10, n_jobs=1, precompute_distances='auto',\n",
       "         random_state=None, tol=0.0001, verbose=0)"
      ]
     },
     "execution_count": 47,
     "metadata": {},
     "output_type": "execute_result"
    }
   ],
   "source": [
    "# Fit the equal KMeans model, number of clusters are the number of congressional seats\n",
    "clf = k_means_eq.EqualGroupsKMeans(n_clusters=seats)\n",
    "clf.fit(array_state)"
   ]
  },
  {
   "cell_type": "code",
   "execution_count": 48,
   "metadata": {},
   "outputs": [],
   "source": [
    "# Assign cluster and save centroids in CSV format\n",
    "df_state[\"CLUSTER\"] = clf.labels_\n",
    "centroids = clf.cluster_centers_\n",
    "df_districts = pd.DataFrame(centroids, columns=[\"LON\", \"LAT\"])\n",
    "df_districts[\"CLUSTER\"] = df_state[\"CLUSTER\"].sort_values().unique()\n",
    "df_districts.to_csv(\"../../results/\" + state + \"_centroids.csv\", index=False)"
   ]
  },
  {
   "cell_type": "code",
   "execution_count": 74,
   "metadata": {},
   "outputs": [
    {
     "data": {
      "text/plain": [
       "2"
      ]
     },
     "execution_count": 74,
     "metadata": {},
     "output_type": "execute_result"
    }
   ],
   "source": [
    "45 // 20"
   ]
  },
  {
   "cell_type": "code",
   "execution_count": 4,
   "metadata": {},
   "outputs": [],
   "source": [
    "# Read in centroids (if only plotting, otherwise run whole notebook top to bottom)\n",
    "df_districts = pd.read_csv(\"../../results/\" + state + \"_centroids.csv\")"
   ]
  },
  {
   "cell_type": "code",
   "execution_count": 56,
   "metadata": {},
   "outputs": [],
   "source": [
    "# Read in shapefiles\n",
    "## Congressional districts shapefile\n",
    "df_shp_base = gpd.read_file(\"../../shapefile/congressional_districts/tl_2019_us_cd116.shp\")\n",
    "base_districts = df_shp_base[df_shp_base[\"STATEFP\"] == fips][\"geometry\"]\n",
    "## State boundaries shapefile\n",
    "df_shp = gpd.read_file(\"../../shapefile/states/tl_2019_us_state.shp\")\n",
    "base_state = df_shp[df_shp[\"STUSPS\"].str.lower() == state]\n",
    "base_state_shape = base_state[\"geometry\"].iloc[0]"
   ]
  },
  {
   "cell_type": "code",
   "execution_count": 79,
   "metadata": {},
   "outputs": [],
   "source": [
    "# Get appropriate number of colors for plotting in `geopandas`\n",
    "cmap = cm.get_cmap('tab20', seats)\n",
    "colors = []\n",
    "for i in range(seats):\n",
    "    i -= (20 * (i // 20))\n",
    "    rgb = cmap(i)[:3]\n",
    "    colors.append(matplotlib.colors.rgb2hex(rgb))"
   ]
  },
  {
   "cell_type": "code",
   "execution_count": 83,
   "metadata": {},
   "outputs": [
    {
     "data": {
      "image/png": "[encoded data removed]",
      "text/plain": [
       "<Figure size 432x288 with 1 Axes>"
      ]
     },
     "metadata": {
      "needs_background": "light"
     },
     "output_type": "display_data"
    }
   ],
   "source": [
    "# Plot and save image of current congressional districts\n",
    "fig, ax = plt.subplots(1)\n",
    "# base_state.plot(color=colors, ax=ax, linewidth=1, edgecolor='0')\n",
    "base_districts.plot(color=colors, ax=ax, linewidth=0.5, edgecolor='0')\n",
    "df_shp[df_shp[\"STUSPS\"].str.lower() == state][\"geometry\"]\n",
    "ax.set_axis_off()\n",
    "plt.axis(\"equal\")\n",
    "plt.savefig(\"../../img/\"+ state + \"_cd.png\", bbox_inches='tight')\n",
    "plt.show()"
   ]
  },
  {
   "cell_type": "code",
   "execution_count": 84,
   "metadata": {},
   "outputs": [
    {
     "data": {
      "image/png": "[encoded data removed]",
      "text/plain": [
       "<Figure size 432x288 with 1 Axes>"
      ]
     },
     "metadata": {
      "needs_background": "light"
     },
     "output_type": "display_data"
    }
   ],
   "source": [
    "# Plot and save voronoi (centroid area of influence) plot of K-Means districts \n",
    "districts = np.array(df_districts[[\n",
    "    \"LON\",\n",
    "    \"LAT\",\n",
    "]])\n",
    "\n",
    "poly_shapes, pts, poly_to_pt_assignments = voronoi_regions_from_coords(districts, base_state_shape)\n",
    "\n",
    "fig, ax = subplot_for_map()\n",
    "plot_voronoi_polys_with_points_in_area(ax, base_state_shape, poly_shapes, districts, poly_to_pt_assignments)\n",
    "ax.set_axis_off()\n",
    "plt.axis('equal')\n",
    "plt.savefig(\"../../img/\"+ state + \"_fit.png\", bbox_inches='tight')\n",
    "plt.show()"
   ]
  },
  {
   "cell_type": "code",
   "execution_count": null,
   "metadata": {},
   "outputs": [],
   "source": []
  }
 ],
 "metadata": {
  "kernelspec": {
   "display_name": "Python 3",
   "language": "python",
   "name": "python3"
  },
  "language_info": {
   "codemirror_mode": {
    "name": "ipython",
    "version": 3
   },
   "file_extension": ".py",
   "mimetype": "text/x-python",
   "name": "python",
   "nbconvert_exporter": "python",
   "pygments_lexer": "ipython3",
   "version": "3.7.3"
  }
 },
 "nbformat": 4,
 "nbformat_minor": 2
}
